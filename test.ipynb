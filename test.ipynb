{
 "metadata": {
  "language_info": {
   "codemirror_mode": {
    "name": "ipython",
    "version": 3
   },
   "file_extension": ".py",
   "mimetype": "text/x-python",
   "name": "python",
   "nbconvert_exporter": "python",
   "pygments_lexer": "ipython3",
   "version": "3.8.2-final"
  },
  "orig_nbformat": 2,
  "kernelspec": {
   "name": "python3",
   "display_name": "Python 3.8.2 64-bit",
   "metadata": {
    "interpreter": {
     "hash": "31f2aee4e71d21fbe5cf8b01ff0e069b9275f58929596ceb00d14d90e3e16cd6"
    }
   }
  }
 },
 "nbformat": 4,
 "nbformat_minor": 2,
 "cells": [
  {
   "cell_type": "code",
   "execution_count": 1,
   "metadata": {},
   "outputs": [
    {
     "output_type": "error",
     "ename": "ValueError",
     "evalue": "Found input variables with inconsistent numbers of samples: [1000, 2000]",
     "traceback": [
      "\u001b[0;31m---------------------------------------------------------------------------\u001b[0m",
      "\u001b[0;31mValueError\u001b[0m                                Traceback (most recent call last)",
      "\u001b[0;32m<ipython-input-1-a94f1c70541a>\u001b[0m in \u001b[0;36m<module>\u001b[0;34m\u001b[0m\n\u001b[1;32m      1\u001b[0m \u001b[0;32mfrom\u001b[0m \u001b[0msim_logistic\u001b[0m \u001b[0;32mimport\u001b[0m \u001b[0msim\u001b[0m\u001b[0;34m\u001b[0m\u001b[0;34m\u001b[0m\u001b[0m\n\u001b[0;32m----> 2\u001b[0;31m \u001b[0msim\u001b[0m\u001b[0;34m(\u001b[0m\u001b[0mn\u001b[0m \u001b[0;34m=\u001b[0m \u001b[0;36m1000\u001b[0m\u001b[0;34m)\u001b[0m\u001b[0;34m\u001b[0m\u001b[0;34m\u001b[0m\u001b[0m\n\u001b[0m",
      "\u001b[0;32m~/projects/logreg-calibration/sim_logistic.py\u001b[0m in \u001b[0;36msim\u001b[0;34m(n, s, p, k, theta, penalty)\u001b[0m\n\u001b[1;32m     42\u001b[0m     \u001b[0;31m# model\u001b[0m\u001b[0;34m\u001b[0m\u001b[0;34m\u001b[0m\u001b[0;34m\u001b[0m\u001b[0m\n\u001b[1;32m     43\u001b[0m     \u001b[0mcl\u001b[0m \u001b[0;34m=\u001b[0m \u001b[0mLogisticRegression\u001b[0m\u001b[0;34m(\u001b[0m\u001b[0mpenalty\u001b[0m \u001b[0;34m=\u001b[0m \u001b[0mpenalty\u001b[0m\u001b[0;34m,\u001b[0m \u001b[0mC\u001b[0m \u001b[0;34m=\u001b[0m \u001b[0;36m1\u001b[0m\u001b[0;34m/\u001b[0m\u001b[0mregularizer\u001b[0m\u001b[0;34m,\u001b[0m \u001b[0mfit_intercept\u001b[0m \u001b[0;34m=\u001b[0m \u001b[0;32mFalse\u001b[0m\u001b[0;34m,\u001b[0m \u001b[0msolver\u001b[0m \u001b[0;34m=\u001b[0m \u001b[0;34m'saga'\u001b[0m\u001b[0;34m)\u001b[0m\u001b[0;34m\u001b[0m\u001b[0;34m\u001b[0m\u001b[0m\n\u001b[0;32m---> 44\u001b[0;31m     \u001b[0mcl\u001b[0m\u001b[0;34m.\u001b[0m\u001b[0mfit\u001b[0m\u001b[0;34m(\u001b[0m\u001b[0mx_train\u001b[0m\u001b[0;34m,\u001b[0m \u001b[0my_train\u001b[0m\u001b[0;34m)\u001b[0m\u001b[0;34m\u001b[0m\u001b[0;34m\u001b[0m\u001b[0m\n\u001b[0m\u001b[1;32m     45\u001b[0m \u001b[0;34m\u001b[0m\u001b[0m\n\u001b[1;32m     46\u001b[0m \u001b[0;34m\u001b[0m\u001b[0m\n",
      "\u001b[0;32m~/Library/Python/3.8/lib/python/site-packages/sklearn/linear_model/_logistic.py\u001b[0m in \u001b[0;36mfit\u001b[0;34m(self, X, y, sample_weight)\u001b[0m\n\u001b[1;32m   1342\u001b[0m             \u001b[0m_dtype\u001b[0m \u001b[0;34m=\u001b[0m \u001b[0;34m[\u001b[0m\u001b[0mnp\u001b[0m\u001b[0;34m.\u001b[0m\u001b[0mfloat64\u001b[0m\u001b[0;34m,\u001b[0m \u001b[0mnp\u001b[0m\u001b[0;34m.\u001b[0m\u001b[0mfloat32\u001b[0m\u001b[0;34m]\u001b[0m\u001b[0;34m\u001b[0m\u001b[0;34m\u001b[0m\u001b[0m\n\u001b[1;32m   1343\u001b[0m \u001b[0;34m\u001b[0m\u001b[0m\n\u001b[0;32m-> 1344\u001b[0;31m         X, y = self._validate_data(X, y, accept_sparse='csr', dtype=_dtype,\n\u001b[0m\u001b[1;32m   1345\u001b[0m                                    \u001b[0morder\u001b[0m\u001b[0;34m=\u001b[0m\u001b[0;34m\"C\"\u001b[0m\u001b[0;34m,\u001b[0m\u001b[0;34m\u001b[0m\u001b[0;34m\u001b[0m\u001b[0m\n\u001b[1;32m   1346\u001b[0m                                    accept_large_sparse=solver != 'liblinear')\n",
      "\u001b[0;32m~/Library/Python/3.8/lib/python/site-packages/sklearn/base.py\u001b[0m in \u001b[0;36m_validate_data\u001b[0;34m(self, X, y, reset, validate_separately, **check_params)\u001b[0m\n\u001b[1;32m    431\u001b[0m                 \u001b[0my\u001b[0m \u001b[0;34m=\u001b[0m \u001b[0mcheck_array\u001b[0m\u001b[0;34m(\u001b[0m\u001b[0my\u001b[0m\u001b[0;34m,\u001b[0m \u001b[0;34m**\u001b[0m\u001b[0mcheck_y_params\u001b[0m\u001b[0;34m)\u001b[0m\u001b[0;34m\u001b[0m\u001b[0;34m\u001b[0m\u001b[0m\n\u001b[1;32m    432\u001b[0m             \u001b[0;32melse\u001b[0m\u001b[0;34m:\u001b[0m\u001b[0;34m\u001b[0m\u001b[0;34m\u001b[0m\u001b[0m\n\u001b[0;32m--> 433\u001b[0;31m                 \u001b[0mX\u001b[0m\u001b[0;34m,\u001b[0m \u001b[0my\u001b[0m \u001b[0;34m=\u001b[0m \u001b[0mcheck_X_y\u001b[0m\u001b[0;34m(\u001b[0m\u001b[0mX\u001b[0m\u001b[0;34m,\u001b[0m \u001b[0my\u001b[0m\u001b[0;34m,\u001b[0m \u001b[0;34m**\u001b[0m\u001b[0mcheck_params\u001b[0m\u001b[0;34m)\u001b[0m\u001b[0;34m\u001b[0m\u001b[0;34m\u001b[0m\u001b[0m\n\u001b[0m\u001b[1;32m    434\u001b[0m             \u001b[0mout\u001b[0m \u001b[0;34m=\u001b[0m \u001b[0mX\u001b[0m\u001b[0;34m,\u001b[0m \u001b[0my\u001b[0m\u001b[0;34m\u001b[0m\u001b[0;34m\u001b[0m\u001b[0m\n\u001b[1;32m    435\u001b[0m \u001b[0;34m\u001b[0m\u001b[0m\n",
      "\u001b[0;32m~/Library/Python/3.8/lib/python/site-packages/sklearn/utils/validation.py\u001b[0m in \u001b[0;36minner_f\u001b[0;34m(*args, **kwargs)\u001b[0m\n\u001b[1;32m     61\u001b[0m             \u001b[0mextra_args\u001b[0m \u001b[0;34m=\u001b[0m \u001b[0mlen\u001b[0m\u001b[0;34m(\u001b[0m\u001b[0margs\u001b[0m\u001b[0;34m)\u001b[0m \u001b[0;34m-\u001b[0m \u001b[0mlen\u001b[0m\u001b[0;34m(\u001b[0m\u001b[0mall_args\u001b[0m\u001b[0;34m)\u001b[0m\u001b[0;34m\u001b[0m\u001b[0;34m\u001b[0m\u001b[0m\n\u001b[1;32m     62\u001b[0m             \u001b[0;32mif\u001b[0m \u001b[0mextra_args\u001b[0m \u001b[0;34m<=\u001b[0m \u001b[0;36m0\u001b[0m\u001b[0;34m:\u001b[0m\u001b[0;34m\u001b[0m\u001b[0;34m\u001b[0m\u001b[0m\n\u001b[0;32m---> 63\u001b[0;31m                 \u001b[0;32mreturn\u001b[0m \u001b[0mf\u001b[0m\u001b[0;34m(\u001b[0m\u001b[0;34m*\u001b[0m\u001b[0margs\u001b[0m\u001b[0;34m,\u001b[0m \u001b[0;34m**\u001b[0m\u001b[0mkwargs\u001b[0m\u001b[0;34m)\u001b[0m\u001b[0;34m\u001b[0m\u001b[0;34m\u001b[0m\u001b[0m\n\u001b[0m\u001b[1;32m     64\u001b[0m \u001b[0;34m\u001b[0m\u001b[0m\n\u001b[1;32m     65\u001b[0m             \u001b[0;31m# extra_args > 0\u001b[0m\u001b[0;34m\u001b[0m\u001b[0;34m\u001b[0m\u001b[0;34m\u001b[0m\u001b[0m\n",
      "\u001b[0;32m~/Library/Python/3.8/lib/python/site-packages/sklearn/utils/validation.py\u001b[0m in \u001b[0;36mcheck_X_y\u001b[0;34m(X, y, accept_sparse, accept_large_sparse, dtype, order, copy, force_all_finite, ensure_2d, allow_nd, multi_output, ensure_min_samples, ensure_min_features, y_numeric, estimator)\u001b[0m\n\u001b[1;32m    829\u001b[0m         \u001b[0my\u001b[0m \u001b[0;34m=\u001b[0m \u001b[0my\u001b[0m\u001b[0;34m.\u001b[0m\u001b[0mastype\u001b[0m\u001b[0;34m(\u001b[0m\u001b[0mnp\u001b[0m\u001b[0;34m.\u001b[0m\u001b[0mfloat64\u001b[0m\u001b[0;34m)\u001b[0m\u001b[0;34m\u001b[0m\u001b[0;34m\u001b[0m\u001b[0m\n\u001b[1;32m    830\u001b[0m \u001b[0;34m\u001b[0m\u001b[0m\n\u001b[0;32m--> 831\u001b[0;31m     \u001b[0mcheck_consistent_length\u001b[0m\u001b[0;34m(\u001b[0m\u001b[0mX\u001b[0m\u001b[0;34m,\u001b[0m \u001b[0my\u001b[0m\u001b[0;34m)\u001b[0m\u001b[0;34m\u001b[0m\u001b[0;34m\u001b[0m\u001b[0m\n\u001b[0m\u001b[1;32m    832\u001b[0m \u001b[0;34m\u001b[0m\u001b[0m\n\u001b[1;32m    833\u001b[0m     \u001b[0;32mreturn\u001b[0m \u001b[0mX\u001b[0m\u001b[0;34m,\u001b[0m \u001b[0my\u001b[0m\u001b[0;34m\u001b[0m\u001b[0;34m\u001b[0m\u001b[0m\n",
      "\u001b[0;32m~/Library/Python/3.8/lib/python/site-packages/sklearn/utils/validation.py\u001b[0m in \u001b[0;36mcheck_consistent_length\u001b[0;34m(*arrays)\u001b[0m\n\u001b[1;32m    260\u001b[0m     \u001b[0muniques\u001b[0m \u001b[0;34m=\u001b[0m \u001b[0mnp\u001b[0m\u001b[0;34m.\u001b[0m\u001b[0munique\u001b[0m\u001b[0;34m(\u001b[0m\u001b[0mlengths\u001b[0m\u001b[0;34m)\u001b[0m\u001b[0;34m\u001b[0m\u001b[0;34m\u001b[0m\u001b[0m\n\u001b[1;32m    261\u001b[0m     \u001b[0;32mif\u001b[0m \u001b[0mlen\u001b[0m\u001b[0;34m(\u001b[0m\u001b[0muniques\u001b[0m\u001b[0;34m)\u001b[0m \u001b[0;34m>\u001b[0m \u001b[0;36m1\u001b[0m\u001b[0;34m:\u001b[0m\u001b[0;34m\u001b[0m\u001b[0;34m\u001b[0m\u001b[0m\n\u001b[0;32m--> 262\u001b[0;31m         raise ValueError(\"Found input variables with inconsistent numbers of\"\n\u001b[0m\u001b[1;32m    263\u001b[0m                          \" samples: %r\" % [int(l) for l in lengths])\n\u001b[1;32m    264\u001b[0m \u001b[0;34m\u001b[0m\u001b[0m\n",
      "\u001b[0;31mValueError\u001b[0m: Found input variables with inconsistent numbers of samples: [1000, 2000]"
     ]
    }
   ],
   "source": [
    "from sim_logistic import sim\n",
    "sim(n = 1000)"
   ]
  },
  {
   "cell_type": "code",
   "execution_count": 2,
   "metadata": {},
   "outputs": [],
   "source": [
    "import numpy as np\n",
    "from sklearn.linear_model import LogisticRegression\n",
    "n, s, p, k, theta, penalty = 10000, 2, 0.5, 0.5, np.pi/2, 'l1'"
   ]
  },
  {
   "cell_type": "code",
   "execution_count": 3,
   "metadata": {},
   "outputs": [],
   "source": [
    "# parameters \n",
    "\n",
    "## model pars\n",
    "d = int(n * k)\n",
    "n0, n1 = n - int(n * p), int(n * p)\n",
    "sigma = 0.2\n",
    "n_test = 1000"
   ]
  },
  {
   "cell_type": "code",
   "execution_count": 4,
   "metadata": {},
   "outputs": [],
   "source": [
    "## coefficients\n",
    "beta0, beta1 = np.zeros(shape = (d, )), np.zeros(shape = (d, ))\n",
    "beta0[0] = s\n",
    "beta1[0], beta1[1] = s * np.cos(theta), s * np.sin(theta)"
   ]
  },
  {
   "cell_type": "code",
   "execution_count": 5,
   "metadata": {},
   "outputs": [],
   "source": [
    "## regularizer \n",
    "if penalty == 'l1':\n",
    "    regularizer = sigma * np.sqrt(np.log(d)/n)\n",
    "elif penalty == 'l2':\n",
    "    regularizer = sigma ** 2 * np.log(d)/n\n",
    "else: \n",
    "    raise ValueError('Not implemented for ' + penalty + '.\\n')"
   ]
  },
  {
   "cell_type": "code",
   "execution_count": 23,
   "metadata": {},
   "outputs": [],
   "source": [
    "# data\n",
    "x0, x1 = np.random.normal(size = (n0, d)), np.random.normal(size = (n1, d))\n",
    "h0, h1 = x0 @ beta0.reshape((-1, 1)) + sigma * np.random.normal(size = (n0, 1)),\\\n",
    "         x1 @ beta1.reshape((-1, 1)) + sigma * np.random.normal(size = (n1, 1))\n",
    "y0, y1 = (h0.reshape((-1, )) > 0).astype('float32'), (h1.reshape((-1, )) > 0).astype('float32')\n",
    "x_train, y_train = np.concatenate((x0, x1), axis = 0), np.concatenate((y0, y1))\n",
    "\n",
    "x0_test, x1_test = np.random.normal(size = (n_test, d)), np.random.normal(size = (n_test, d))\n",
    "h0_test, h1_test = x0_test @ beta0.reshape((-1, 1)) + sigma * np.random.normal(size = (n_test, 1)),\\\n",
    "         x1_test @ beta1.reshape((-1, 1)) + sigma * np.random.normal(size = (n_test, 1))\n",
    "y0_test, y1_test = (h0_test.reshape((-1, )) > 0).astype('float32'),\\\n",
    "         (h1_test.reshape((-1, )) > 0).astype('float32')"
   ]
  },
  {
   "cell_type": "code",
   "execution_count": 26,
   "metadata": {},
   "outputs": [
    {
     "output_type": "execute_result",
     "data": {
      "text/plain": [
       "LogisticRegression(C=171.3254002981677, fit_intercept=False, penalty='l1',\n",
       "                   solver='liblinear')"
      ]
     },
     "metadata": {},
     "execution_count": 26
    }
   ],
   "source": [
    "# model \n",
    "cl = LogisticRegression(penalty = penalty, C = 1/regularizer, fit_intercept = False, solver = 'liblinear')\n",
    "cl.fit(x_train, y_train)"
   ]
  },
  {
   "cell_type": "code",
   "execution_count": 27,
   "metadata": {},
   "outputs": [],
   "source": [
    "score0, score1 = cl.score(x0_test, y0_test), cl.score(x1_test, y1_test)\n",
    "b = cl.coef_.T\n",
    "norm_b = np.linalg.norm(b)"
   ]
  },
  {
   "cell_type": "code",
   "execution_count": 28,
   "metadata": {},
   "outputs": [
    {
     "output_type": "execute_result",
     "data": {
      "text/plain": [
       "(0.59, 0.59, 45.1105094533143)"
      ]
     },
     "metadata": {},
     "execution_count": 28
    }
   ],
   "source": [
    "score0, score0, norm_b"
   ]
  },
  {
   "cell_type": "code",
   "execution_count": 7,
   "metadata": {},
   "outputs": [],
   "source": [
    "from sim_logistic import sim\n",
    "score, b, calibration_error = sim(n = 10000, k = 0.001, pi = 0)"
   ]
  },
  {
   "cell_type": "code",
   "execution_count": 8,
   "metadata": {},
   "outputs": [
    {
     "output_type": "execute_result",
     "data": {
      "text/plain": [
       "[0.929, 0.504]"
      ]
     },
     "metadata": {},
     "execution_count": 8
    }
   ],
   "source": [
    "score"
   ]
  },
  {
   "cell_type": "code",
   "execution_count": 9,
   "metadata": {},
   "outputs": [
    {
     "output_type": "execute_result",
     "data": {
      "text/plain": [
       "[9.26890801249023, 0.016435406024695315, 1.5704057344039022]"
      ]
     },
     "metadata": {},
     "execution_count": 9
    }
   ],
   "source": [
    "b"
   ]
  },
  {
   "cell_type": "code",
   "execution_count": 10,
   "metadata": {},
   "outputs": [],
   "source": [
    "ce0, ce1 = calibration_error"
   ]
  },
  {
   "cell_type": "code",
   "execution_count": 11,
   "metadata": {},
   "outputs": [
    {
     "output_type": "execute_result",
     "data": {
      "text/plain": [
       "0.09999298152888829"
      ]
     },
     "metadata": {},
     "execution_count": 11
    }
   ],
   "source": [
    "ce0(0.1)"
   ]
  },
  {
   "cell_type": "code",
   "execution_count": 12,
   "metadata": {},
   "outputs": [
    {
     "output_type": "execute_result",
     "data": {
      "text/plain": [
       "0.09999289154049579"
      ]
     },
     "metadata": {},
     "execution_count": 12
    }
   ],
   "source": [
    "ce1(0.1)"
   ]
  },
  {
   "cell_type": "code",
   "execution_count": 16,
   "metadata": {},
   "outputs": [
    {
     "output_type": "execute_result",
     "data": {
      "text/plain": [
       "array([0.  , 0.25, 0.5 , 0.75, 1.  ])"
      ]
     },
     "metadata": {},
     "execution_count": 16
    }
   ],
   "source": [
    "import numpy as np\n",
    "thetas = np.linspace(0, 1, 5)\n",
    "thetas"
   ]
  },
  {
   "cell_type": "code",
   "execution_count": 19,
   "metadata": {},
   "outputs": [],
   "source": [
    "job = 1\n",
    "job_file = f'job_files/job_{job}.sh'\n",
    "\n",
    "    # content of batch file\n",
    "job_string = f'#!/bin/bash\\n'\n",
    "job_string += f'#SBATCH --job-name=sim{job}\\n'\n",
    "job_string += f'#SBATCH --output=logs/op-sim_%A_%a.out\\n'\n",
    "job_string += f'#SBATCH --array=0-4999\\n'\n",
    "job_string += f'#SBATCH --nodes=1\\n#SBATCH --cpus-per-task=1\\n#SBATCH --mem-per-cpu=6gb\\n'\n",
    "job_string += f'#SBATCH --time=1:00:00\\n#SBATCH --account=yuekai1\\n#SBATCH --mail-type=NONE\\n'\n",
    "job_string += f'#SBATCH --mail-user=smaity@umich.edu\\n#SBATCH --partition=standard\\n'\n",
    "job_string += f'echo \"SLURM_JOBID: \" $SLURM_JOBID\\necho \"SLURM_ARRAY_TASK_ID: \" $SLURM_ARRAY_TASK_ID\\n'\n",
    "job_string += f'echo \"SLURM_ARRAY_JOB_ID: \" $SLURM_ARRAY_JOB_ID\\n'\n",
    "job_string += f'python3 grid_sim.py $(($SLURM_ARRAY_TASK_ID+{job * 5000}))'\n",
    "\n",
    "\n",
    "with open(job_file, 'w') as jf:\n",
    "    jf.write(job_string)"
   ]
  },
  {
   "cell_type": "code",
   "execution_count": 21,
   "metadata": {},
   "outputs": [
    {
     "output_type": "execute_result",
     "data": {
      "text/plain": [
       "array([0.1, 0.2, 0.3, 0.4, 0.5, 0.6, 0.7, 0.8, 0.9])"
      ]
     },
     "metadata": {},
     "execution_count": 21
    }
   ],
   "source": [
    "np.linspace(0.1, 0.9, 9)"
   ]
  },
  {
   "cell_type": "code",
   "execution_count": 22,
   "metadata": {},
   "outputs": [],
   "source": [
    "rd = {'st': [0, 1, 2], 't': 2}"
   ]
  },
  {
   "cell_type": "code",
   "execution_count": 23,
   "metadata": {},
   "outputs": [
    {
     "output_type": "execute_result",
     "data": {
      "text/plain": [
       "dict"
      ]
     },
     "metadata": {},
     "execution_count": 23
    }
   ],
   "source": [
    "type(rd)"
   ]
  },
  {
   "cell_type": "code",
   "execution_count": 25,
   "metadata": {},
   "outputs": [],
   "source": [
    "a = str(rd)"
   ]
  },
  {
   "cell_type": "code",
   "execution_count": 26,
   "metadata": {},
   "outputs": [
    {
     "output_type": "execute_result",
     "data": {
      "text/plain": [
       "{'st': [0, 1, 2], 't': 2}"
      ]
     },
     "metadata": {},
     "execution_count": 26
    }
   ],
   "source": [
    "eval(a)"
   ]
  },
  {
   "cell_type": "code",
   "execution_count": 1,
   "metadata": {},
   "outputs": [],
   "source": [
    "from sim_logistic import grid\n",
    "import numpy as np\n",
    "import itertools\n",
    "import subprocess\n",
    "import os, sys\n",
    "\n",
    "with open('parms.txt', 'r') as f:\n",
    "    pars = f.readline()\n",
    "\n",
    "pars = eval(pars)\n",
    "parameters = grid(n_signal = pars['n_signal'], n_pi = pars['n_pi'],\\\n",
    "     n_kappa = pars['n_kappa'], n_theta = pars['n_theta'], n_sim = pars['n_sim'])"
   ]
  },
  {
   "cell_type": "code",
   "execution_count": 2,
   "metadata": {},
   "outputs": [
    {
     "output_type": "execute_result",
     "data": {
      "text/plain": [
       "{'n_signal': 2, 'n_pi': 2, 'n_kappa': 2, 'n_theta': 2, 'n_sim': 2}"
      ]
     },
     "metadata": {},
     "execution_count": 2
    }
   ],
   "source": [
    "pars"
   ]
  },
  {
   "cell_type": "code",
   "execution_count": 3,
   "metadata": {},
   "outputs": [
    {
     "output_type": "execute_result",
     "data": {
      "text/plain": [
       "[(0.5, 0.1, 0.1, 0.0, 'l1', 0),\n",
       " (0.5, 0.1, 0.1, 0.0, 'l1', 1),\n",
       " (0.5, 0.1, 0.1, 0.0, 'l2', 0),\n",
       " (0.5, 0.1, 0.1, 0.0, 'l2', 1),\n",
       " (0.5, 0.1, 0.1, 3.141592653589793, 'l1', 0),\n",
       " (0.5, 0.1, 0.1, 3.141592653589793, 'l1', 1),\n",
       " (0.5, 0.1, 0.1, 3.141592653589793, 'l2', 0),\n",
       " (0.5, 0.1, 0.1, 3.141592653589793, 'l2', 1),\n",
       " (0.5, 0.1, 10.0, 0.0, 'l1', 0),\n",
       " (0.5, 0.1, 10.0, 0.0, 'l1', 1),\n",
       " (0.5, 0.1, 10.0, 0.0, 'l2', 0),\n",
       " (0.5, 0.1, 10.0, 0.0, 'l2', 1),\n",
       " (0.5, 0.1, 10.0, 3.141592653589793, 'l1', 0),\n",
       " (0.5, 0.1, 10.0, 3.141592653589793, 'l1', 1),\n",
       " (0.5, 0.1, 10.0, 3.141592653589793, 'l2', 0),\n",
       " (0.5, 0.1, 10.0, 3.141592653589793, 'l2', 1),\n",
       " (0.5, 0.9, 0.1, 0.0, 'l1', 0),\n",
       " (0.5, 0.9, 0.1, 0.0, 'l1', 1),\n",
       " (0.5, 0.9, 0.1, 0.0, 'l2', 0),\n",
       " (0.5, 0.9, 0.1, 0.0, 'l2', 1),\n",
       " (0.5, 0.9, 0.1, 3.141592653589793, 'l1', 0),\n",
       " (0.5, 0.9, 0.1, 3.141592653589793, 'l1', 1),\n",
       " (0.5, 0.9, 0.1, 3.141592653589793, 'l2', 0),\n",
       " (0.5, 0.9, 0.1, 3.141592653589793, 'l2', 1),\n",
       " (0.5, 0.9, 10.0, 0.0, 'l1', 0),\n",
       " (0.5, 0.9, 10.0, 0.0, 'l1', 1),\n",
       " (0.5, 0.9, 10.0, 0.0, 'l2', 0),\n",
       " (0.5, 0.9, 10.0, 0.0, 'l2', 1),\n",
       " (0.5, 0.9, 10.0, 3.141592653589793, 'l1', 0),\n",
       " (0.5, 0.9, 10.0, 3.141592653589793, 'l1', 1),\n",
       " (0.5, 0.9, 10.0, 3.141592653589793, 'l2', 0),\n",
       " (0.5, 0.9, 10.0, 3.141592653589793, 'l2', 1),\n",
       " (5.0, 0.1, 0.1, 0.0, 'l1', 0),\n",
       " (5.0, 0.1, 0.1, 0.0, 'l1', 1),\n",
       " (5.0, 0.1, 0.1, 0.0, 'l2', 0),\n",
       " (5.0, 0.1, 0.1, 0.0, 'l2', 1),\n",
       " (5.0, 0.1, 0.1, 3.141592653589793, 'l1', 0),\n",
       " (5.0, 0.1, 0.1, 3.141592653589793, 'l1', 1),\n",
       " (5.0, 0.1, 0.1, 3.141592653589793, 'l2', 0),\n",
       " (5.0, 0.1, 0.1, 3.141592653589793, 'l2', 1),\n",
       " (5.0, 0.1, 10.0, 0.0, 'l1', 0),\n",
       " (5.0, 0.1, 10.0, 0.0, 'l1', 1),\n",
       " (5.0, 0.1, 10.0, 0.0, 'l2', 0),\n",
       " (5.0, 0.1, 10.0, 0.0, 'l2', 1),\n",
       " (5.0, 0.1, 10.0, 3.141592653589793, 'l1', 0),\n",
       " (5.0, 0.1, 10.0, 3.141592653589793, 'l1', 1),\n",
       " (5.0, 0.1, 10.0, 3.141592653589793, 'l2', 0),\n",
       " (5.0, 0.1, 10.0, 3.141592653589793, 'l2', 1),\n",
       " (5.0, 0.9, 0.1, 0.0, 'l1', 0),\n",
       " (5.0, 0.9, 0.1, 0.0, 'l1', 1),\n",
       " (5.0, 0.9, 0.1, 0.0, 'l2', 0),\n",
       " (5.0, 0.9, 0.1, 0.0, 'l2', 1),\n",
       " (5.0, 0.9, 0.1, 3.141592653589793, 'l1', 0),\n",
       " (5.0, 0.9, 0.1, 3.141592653589793, 'l1', 1),\n",
       " (5.0, 0.9, 0.1, 3.141592653589793, 'l2', 0),\n",
       " (5.0, 0.9, 0.1, 3.141592653589793, 'l2', 1),\n",
       " (5.0, 0.9, 10.0, 0.0, 'l1', 0),\n",
       " (5.0, 0.9, 10.0, 0.0, 'l1', 1),\n",
       " (5.0, 0.9, 10.0, 0.0, 'l2', 0),\n",
       " (5.0, 0.9, 10.0, 0.0, 'l2', 1),\n",
       " (5.0, 0.9, 10.0, 3.141592653589793, 'l1', 0),\n",
       " (5.0, 0.9, 10.0, 3.141592653589793, 'l1', 1),\n",
       " (5.0, 0.9, 10.0, 3.141592653589793, 'l2', 0),\n",
       " (5.0, 0.9, 10.0, 3.141592653589793, 'l2', 1)]"
      ]
     },
     "metadata": {},
     "execution_count": 3
    }
   ],
   "source": [
    "parameters"
   ]
  },
  {
   "cell_type": "code",
   "execution_count": null,
   "metadata": {},
   "outputs": [],
   "source": []
  }
 ]
}